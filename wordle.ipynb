{
 "cells": [
  {
   "cell_type": "code",
   "execution_count": 1,
   "id": "3b2a7d63",
   "metadata": {},
   "outputs": [],
   "source": [
    "# Letter states\n",
    "BLANK = \"blank\"\n",
    "CORRECT = \"correct\"\n",
    "INCORRECT = \"incorrect\"\n",
    "ABSENT = \"absent\""
   ]
  },
  {
   "cell_type": "code",
   "execution_count": 2,
   "id": "a103e195",
   "metadata": {},
   "outputs": [],
   "source": [
    "\n",
    "\n",
    "letter = {\n",
    "    \"status\": BLANK,\n",
    "    \"character\": None\n",
    "}\n",
    "\n"
   ]
  },
  {
   "cell_type": "code",
   "execution_count": 3,
   "id": "0835627e",
   "metadata": {},
   "outputs": [
    {
     "data": {
      "text/plain": [
       "'blank'"
      ]
     },
     "execution_count": 3,
     "metadata": {},
     "output_type": "execute_result"
    }
   ],
   "source": [
    "letter[\"status\"]"
   ]
  },
  {
   "cell_type": "code",
   "execution_count": 4,
   "id": "f23f6f01",
   "metadata": {},
   "outputs": [],
   "source": [
    "def is_blank(letter):\n",
    "    return letter[\"status\"] == BLANK\n"
   ]
  },
  {
   "cell_type": "code",
   "execution_count": 5,
   "id": "2a2bebc8",
   "metadata": {},
   "outputs": [
    {
     "data": {
      "text/plain": [
       "True"
      ]
     },
     "execution_count": 5,
     "metadata": {},
     "output_type": "execute_result"
    }
   ],
   "source": [
    "is_blank(letter)"
   ]
  },
  {
   "cell_type": "code",
   "execution_count": 21,
   "id": "988b90cf",
   "metadata": {},
   "outputs": [],
   "source": [
    "class Letter:\n",
    "    def __init__(self):\n",
    "        self.status = BLANK\n",
    "        self.character = None\n",
    "        \n",
    "    def is_blank(self):\n",
    "        return self.status == BLANK\n",
    "    "
   ]
  },
  {
   "cell_type": "code",
   "execution_count": 20,
   "id": "7755ac5d",
   "metadata": {},
   "outputs": [
    {
     "name": "stdout",
     "output_type": "stream",
     "text": [
      "S:correct\n"
     ]
    }
   ],
   "source": [
    "print(letter2)"
   ]
  },
  {
   "cell_type": "code",
   "execution_count": 18,
   "id": "4ee24433",
   "metadata": {},
   "outputs": [],
   "source": [
    "letter = Letter()\n",
    "\n",
    "letter2 = Letter()\n",
    "letter2.status = CORRECT\n",
    "letter2.character = \"S\""
   ]
  },
  {
   "cell_type": "code",
   "execution_count": 14,
   "id": "7fa655a1",
   "metadata": {},
   "outputs": [
    {
     "data": {
      "text/plain": [
       "True"
      ]
     },
     "execution_count": 14,
     "metadata": {},
     "output_type": "execute_result"
    }
   ],
   "source": [
    "letter.is_blank()"
   ]
  },
  {
   "cell_type": "code",
   "execution_count": 15,
   "id": "ae1d7af2",
   "metadata": {},
   "outputs": [
    {
     "data": {
      "text/plain": [
       "False"
      ]
     },
     "execution_count": 15,
     "metadata": {},
     "output_type": "execute_result"
    }
   ],
   "source": [
    "letter2.is_blank()"
   ]
  },
  {
   "cell_type": "code",
   "execution_count": 19,
   "id": "3a2e1300",
   "metadata": {},
   "outputs": [
    {
     "data": {
      "text/plain": [
       "<__main__.Letter instance at 0x7fd604083908>"
      ]
     },
     "execution_count": 19,
     "metadata": {},
     "output_type": "execute_result"
    }
   ],
   "source": [
    "letter2"
   ]
  },
  {
   "cell_type": "code",
   "execution_count": null,
   "id": "539cea91",
   "metadata": {},
   "outputs": [],
   "source": []
  }
 ],
 "metadata": {
  "kernelspec": {
   "display_name": "Python [conda env:analysis27-18.10]",
   "language": "python",
   "name": "conda-env-analysis27-18.10-py"
  },
  "language_info": {
   "codemirror_mode": {
    "name": "ipython",
    "version": 2
   },
   "file_extension": ".py",
   "mimetype": "text/x-python",
   "name": "python",
   "nbconvert_exporter": "python",
   "pygments_lexer": "ipython2",
   "version": "2.7.15"
  },
  "varInspector": {
   "cols": {
    "lenName": 16,
    "lenType": 16,
    "lenVar": 40
   },
   "kernels_config": {
    "python": {
     "delete_cmd_postfix": "",
     "delete_cmd_prefix": "del ",
     "library": "var_list.py",
     "varRefreshCmd": "print(var_dic_list())"
    },
    "r": {
     "delete_cmd_postfix": ") ",
     "delete_cmd_prefix": "rm(",
     "library": "var_list.r",
     "varRefreshCmd": "cat(var_dic_list()) "
    }
   },
   "types_to_exclude": [
    "module",
    "function",
    "builtin_function_or_method",
    "instance",
    "_Feature"
   ],
   "window_display": false
  }
 },
 "nbformat": 4,
 "nbformat_minor": 5
}
