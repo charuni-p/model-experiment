{
 "cells": [
  {
   "cell_type": "code",
   "execution_count": 1,
   "id": "b89faed1",
   "metadata": {},
   "outputs": [],
   "source": [
    "import numpy as np\n",
    "from netCDF4 import Dataset as ds\n",
    "from datetime import datetime as DT\n",
    "from cartopy import crs as ccrs\n",
    "from cartopy import feature as cfeature\n",
    "from matplotlib import pyplot as plt \n",
    "from scipy.ndimage import gaussian_filter"
   ]
  },
  {
   "cell_type": "code",
   "execution_count": null,
   "id": "4f362ba2",
   "metadata": {},
   "outputs": [],
   "source": [
    "lon=dataset.variables['lon'][:]\n",
    "lat=dataset.variables['lat'][:]\n",
    "\n",
    "boundbox=[-120+360,-65+360,20,55]\n",
    "level=850 ##850 mb pressure level\n",
    "x1,x2=np.argmin(np.abs(lon-boundbox[0])),np.argmin(np.abs(lon-boundbox[1]))\n",
    "y1,y2=np.argmin(np.abs(lat-boundbox[2])),np.argmin(np.abs(lat-boundbox[3]))\n",
    "z=np.argmin(np.abs(levs-level))\n",
    "\n",
    "\n",
    "T=dataset.variables['tmpprs'][0,z,y1:y2+1,x1:x2+1]\n",
    "U=dataset.variables['ugrdprs'][0,z,y1:y2+1,x1:x2+1]\n",
    "V=dataset.variables['vgrdprs'][0,z,y1:y2+1,x1:x2+1]"
   ]
  },
  {
   "cell_type": "code",
   "execution_count": null,
   "id": "958aadfc",
   "metadata": {},
   "outputs": [],
   "source": [
    "proj=ccrs.LambertConformal(central_longitude=-90)\n",
    "lon,lat=np.meshgrid(lon,lat)\n",
    "output=proj.transform_points(ccrs.PlateCarree(),lon,lat)\n",
    "x,y=output[:,:,0],output[:,:,1]\n",
    "\n",
    "\n",
    "gradx=np.gradient(x,axis=1)\n",
    "grady=np.gradient(y,axis=0)\n",
    "Tadv=-(U*(np.gradient(T,axis=1)/gradx)+V*(np.gradient(T,axis=0)/grady))"
   ]
  },
  {
   "cell_type": "code",
   "execution_count": null,
   "id": "0630bcc1",
   "metadata": {},
   "outputs": [],
   "source": [
    "fig=plt.figure(figsize=(13,12))\n",
    "ax=plt.subplot(111,projection=ccrs.PlateCarree())\n",
    "Z=plt.contourf(x,y,Tadv*3600.,cmap='coolwarm',levels=np.linspace(-2.5,2.5,31),transform=proj,extend='both')\n",
    "C=plt.contour(x,y,T-273.15,cmap='jet',levels=np.linspace(-25,20,10),transform=proj)\n",
    "plt.barbs(x[::skip,::skip],y[::skip,::skip],U[::skip,::skip],V[::skip,::skip],length=4.5,transform=proj)\n",
    "plt.colorbar(Z)\n",
    "ax.set_extent(box,crs=ccrs.PlateCarree())\n",
    "ax.add_feature(cfeature.COASTLINE.with_scale('50m'))\n",
    "ax.add_feature(cfeature.STATES.with_scale('50m'))"
   ]
  },
  {
   "cell_type": "code",
   "execution_count": null,
   "id": "b4d6b70d",
   "metadata": {},
   "outputs": [],
   "source": []
  },
  {
   "cell_type": "code",
   "execution_count": null,
   "id": "e8eb28cc",
   "metadata": {},
   "outputs": [],
   "source": []
  },
  {
   "cell_type": "code",
   "execution_count": null,
   "id": "36ecd2f9",
   "metadata": {},
   "outputs": [],
   "source": []
  }
 ],
 "metadata": {
  "kernelspec": {
   "display_name": "Python 3 (ipykernel)",
   "language": "python",
   "name": "python3"
  },
  "language_info": {
   "codemirror_mode": {
    "name": "ipython",
    "version": 3
   },
   "file_extension": ".py",
   "mimetype": "text/x-python",
   "name": "python",
   "nbconvert_exporter": "python",
   "pygments_lexer": "ipython3",
   "version": "3.9.13"
  },
  "varInspector": {
   "cols": {
    "lenName": 16,
    "lenType": 16,
    "lenVar": 40
   },
   "kernels_config": {
    "python": {
     "delete_cmd_postfix": "",
     "delete_cmd_prefix": "del ",
     "library": "var_list.py",
     "varRefreshCmd": "print(var_dic_list())"
    },
    "r": {
     "delete_cmd_postfix": ") ",
     "delete_cmd_prefix": "rm(",
     "library": "var_list.r",
     "varRefreshCmd": "cat(var_dic_list()) "
    }
   },
   "types_to_exclude": [
    "module",
    "function",
    "builtin_function_or_method",
    "instance",
    "_Feature"
   ],
   "window_display": false
  }
 },
 "nbformat": 4,
 "nbformat_minor": 5
}
