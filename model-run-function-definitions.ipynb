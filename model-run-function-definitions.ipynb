{
 "cells": [
  {
   "cell_type": "code",
   "execution_count": 1,
   "id": "4a50c411",
   "metadata": {
    "tags": []
   },
   "outputs": [],
   "source": [
    "import xarray as xr\n",
    "import matplotlib.pyplot as plt\n",
    "import scipy.stats\n",
    "from scipy import stats\n",
    "from scipy.stats import ttest_ind \n",
    "from cartopy import config\n",
    "import cartopy\n",
    "import cartopy.crs as ccrs\n",
    "import cmocean\n",
    "import cartopy.feature as cfeature\n",
    "import seaborn as sns\n",
    "import datetime\n",
    "import calendar\n",
    "import iris\n",
    "import pandas as pd\n",
    "from pathlib import Path\n",
    "import glob\n",
    "import xesmf as xe"
   ]
  },
  {
   "cell_type": "code",
   "execution_count": 2,
   "id": "284adaae",
   "metadata": {},
   "outputs": [],
   "source": [
    "ds = xr.open_dataset('/g/data/e14/cp3790/Charuni/ModelRun/umnsaa_pa000.nc')\n",
    "\n",
    "mask = ds.lmask"
   ]
  },
  {
   "cell_type": "code",
   "execution_count": 3,
   "id": "30e9d449",
   "metadata": {},
   "outputs": [],
   "source": [
    "START_YEAR = 1981\n",
    "END_YEAR = 2018"
   ]
  },
  {
   "cell_type": "markdown",
   "id": "1e9ad255",
   "metadata": {
    "heading_collapsed": true,
    "jp-MarkdownHeadingCollapsed": true,
    "tags": []
   },
   "source": [
    "## Alternate runs "
   ]
  },
  {
   "cell_type": "code",
   "execution_count": 18,
   "id": "3e0e7cb1",
   "metadata": {
    "hidden": true
   },
   "outputs": [],
   "source": [
    "def get_processed_var_xr(xr, var_name):\n",
    "    if var_name == \"ts_0\":\n",
    "        return xr - 273.15\n",
    "    elif var_name == \"air_pressure_at_sea_level\":\n",
    "        return xr/100\n",
    "    return xr"
   ]
  },
  {
   "cell_type": "code",
   "execution_count": 12,
   "id": "ec626e76",
   "metadata": {
    "hidden": true
   },
   "outputs": [],
   "source": [
    "#def get_alt_year_xr_map(var_name, filepath_format):\n",
    "#    year_xr_map = {}\n",
    "#    for year in range(START_YEAR, END_YEAR+1):\n",
    "#        filename = filepath_format.format(year)\n",
    "#        if len(glob.glob(filename)) == 0:\n",
    "#            continue\n",
    "#        ds = None\n",
    "#        if '*' in filename:\n",
    "#            ds = xr.open_mfdataset(filename)\n",
    "#        else:\n",
    "#            ds = xr.open_dataset(filename)\n",
    "#        var_xr = ds[var_name]\n",
    "#        # Special processing for the variables\n",
    "#        var_xr = get_processed_var_xr(var_xr, var_name)\n",
    "#        year_xr_map[year] = var_xr\n",
    "#\n",
    "#    return year_xr_map  "
   ]
  },
  {
   "cell_type": "code",
   "execution_count": 1,
   "id": "f9bb38c7",
   "metadata": {
    "hidden": true
   },
   "outputs": [],
   "source": [
    "##chai\n",
    "\n",
    "def get_alt_year_xr_map(var_name, filepath_format):\n",
    "    year_xr_map = {}\n",
    "    for year in range(START_YEAR, END_YEAR+1):\n",
    "        filename = filepath_format.format(year)\n",
    "        if len(glob.glob(filename)) == 0:\n",
    "            continue\n",
    "        ds = None\n",
    "        if '*' in filename:\n",
    "            ds = xr.open_mfdataset(filename)\n",
    "        else:\n",
    "            ds = xr.open_dataset(filename)\n",
    "        var_xr = None\n",
    "        try:\n",
    "            var_xr = ds[var_name]\n",
    "        except KeyError:\n",
    "            print(\"Variable {} was not found. Skipping year {}\".format(var_name, year))\n",
    "            continue\n",
    "        \n",
    "        # Special processing for the variables\n",
    "        var_xr = get_processed_var_xr(var_xr, var_name)\n",
    "        next_year = year + 1\n",
    "        # Slicing\n",
    "        time_slice = slice(\n",
    "            \"{}-06-01\".format(year),\n",
    "            \"{}-06-30\".format(next_year),\n",
    "        )\n",
    "        var_xr_slice = var_xr.sel(time=time_slice)\n",
    "        year_xr_map[year] = var_xr_slice\n",
    "\n",
    "    return year_xr_map "
   ]
  },
  {
   "cell_type": "markdown",
   "id": "18e15cad",
   "metadata": {
    "heading_collapsed": true,
    "jp-MarkdownHeadingCollapsed": true,
    "tags": []
   },
   "source": [
    "## New control runs"
   ]
  },
  {
   "cell_type": "code",
   "execution_count": 69,
   "id": "72ef3f09",
   "metadata": {
    "hidden": true
   },
   "outputs": [],
   "source": [
    "# con_bundles = {\n",
    "#     '1980': {\n",
    "#         'xr': bundle_1980,\n",
    "#         'start': 1981,\n",
    "#         'end': 1998,\n",
    "#     },\n",
    "#     '1999': {\n",
    "#         'xr': bundle_1999,\n",
    "#         'start': 2000,\n",
    "#         'end': 2018,\n",
    "#     }\n",
    "# }"
   ]
  },
  {
   "cell_type": "code",
   "execution_count": 70,
   "id": "ea2f2194",
   "metadata": {
    "hidden": true
   },
   "outputs": [],
   "source": [
    "def get_year_bundle_xr_map(con_bundle_info):\n",
    "    year_bundle_xr_map = {}\n",
    "    for bundle in con_bundle_info:\n",
    "        val = con_bundle_info[bundle]\n",
    "        for year in range(val['start'], val['end']+1):\n",
    "            year_bundle_xr_map[year] = val['xr']\n",
    "    return year_bundle_xr_map"
   ]
  },
  {
   "cell_type": "code",
   "execution_count": 71,
   "id": "2cd144c2",
   "metadata": {
    "hidden": true
   },
   "outputs": [],
   "source": [
    "def get_con_year_xr_map(alt_year_xr_map, con_bundle_info, var_name):\n",
    "    year_bundle_xr_map = get_year_bundle_xr_map(con_bundle_info)\n",
    "    years = alt_year_xr_map.keys()\n",
    "    year_xr_map = {}\n",
    "    for year in years:\n",
    "        next_year = year + 1\n",
    "        var_xr = year_bundle_xr_map[year][var_name]\n",
    "        # Special processing for the variables\n",
    "        var_xr = get_processed_var_xr(var_xr, var_name)\n",
    "        # Slicing\n",
    "        time_slice = slice(\n",
    "            \"{}-06-01\".format(year),\n",
    "            \"{}-06-30\".format(next_year),\n",
    "        )\n",
    "        var_xr_slice = var_xr.sel(time=time_slice)\n",
    "        year_xr_map[year] = var_xr_slice\n",
    "    return year_xr_map"
   ]
  },
  {
   "cell_type": "markdown",
   "id": "ccdf888e",
   "metadata": {
    "heading_collapsed": true,
    "jp-MarkdownHeadingCollapsed": true,
    "tags": []
   },
   "source": [
    "## Difference"
   ]
  },
  {
   "cell_type": "code",
   "execution_count": 3,
   "id": "a333c7f5",
   "metadata": {
    "hidden": true
   },
   "outputs": [],
   "source": [
    "def get_diff_year_xr_map(alt_year_xr_map, con_year_xr_map):\n",
    "    alt_years = set(alt_year_xr_map.keys())\n",
    "    con_years = set(con_year_xr_map.keys())\n",
    "    alt_diff_con = alt_years - con_years\n",
    "    con_diff_alt = con_years - alt_years\n",
    "    if len(alt_diff_con) > 0:\n",
    "        print(\"Following years in alt_xr_map is not in con_xr_map: {}\".format(alt_diff_con))\n",
    "    if len(con_diff_alt) > 0:\n",
    "        print(\"Following years in con_xr_map is not in alt_xr_map: {}\".format(con_diff_alt))\n",
    "    \n",
    "    years = list(alt_years & con_years)\n",
    "    years.sort()\n",
    "    year_xr_map = {}\n",
    "    for year in years:\n",
    "        year_xr = \\\n",
    "            ( \\\n",
    "              alt_year_xr_map[year].resample(time='1M').mean() \\\n",
    "              - con_year_xr_map[year].resample(time='1M').mean() \\\n",
    "            ) \\\n",
    "            .rename({'time': 'event_month'})\n",
    "        em_coord_size = year_xr[\"event_month\"].size\n",
    "        if em_coord_size != 13:\n",
    "            print(\"{} has {} event_month coords after resampling. Skipping this year!\".format(year, em_coord_size))\n",
    "            continue\n",
    "        year_xr_map[year] = year_xr\n",
    "    return year_xr_map"
   ]
  },
  {
   "cell_type": "code",
   "execution_count": 4,
   "id": "6afedaf7",
   "metadata": {
    "hidden": true
   },
   "outputs": [],
   "source": [
    "def coord_to_dim(coord_xr, coord=\"event_month\", dim=None):\n",
    "    if coord == dim:\n",
    "        print(\"Coord and dim cannot be the same name!\")\n",
    "        return\n",
    "    if dim is None:\n",
    "        dim = \"{}_dim\".format(coord)\n",
    "    coord_segments_xr = xr.concat(\n",
    "        [coord_xr.isel({ coord: i}) for i in range(0, coord_xr[coord].size)],\n",
    "        dim=dim\n",
    "    )\n",
    "    return coord_segments_xr\n",
    "\n",
    "def detect_and_rename_coords(\n",
    "    xr_in,\n",
    "    detect_coord=\"longitude\",\n",
    "    rename_map={\"longitude_0\": \"longiude\", \"latitude_0\": \"latitude\"}\n",
    "):\n",
    "    try:\n",
    "        print (\"xr has '{}'. Not renaming.\".format(detect_coord, len(xr_in[detect_coord])))\n",
    "        return xr_in\n",
    "    except:\n",
    "        print(\"Can't find '{}'. Renaming coords...\".format(detect_coord))\n",
    "        xr_out = xr_in.rename(rename_map)\n",
    "        return xr_out  "
   ]
  },
  {
   "cell_type": "code",
   "execution_count": 9,
   "id": "db3cbb10",
   "metadata": {
    "hidden": true
   },
   "outputs": [
    {
     "data": {
      "text/plain": [
       "2"
      ]
     },
     "execution_count": 9,
     "metadata": {},
     "output_type": "execute_result"
    }
   ],
   "source": [
    "d1 = {\n",
    "    'a': 1,\n",
    "    'b': 2,\n",
    "    'c': 3\n",
    "}\n",
    "\n",
    "d2 = {\n",
    "    'b': 2,\n",
    "    'c': 3,\n",
    "    'd': 4\n",
    "}\n",
    "\n",
    "i = list(set(d1.keys()) & set(d2.keys()))\n",
    "i.sort()\n",
    "len(set(d1.keys()) & set(d2.keys()))"
   ]
  },
  {
   "cell_type": "code",
   "execution_count": 1,
   "id": "317455f2-8767-4a30-8ca8-7cec3558cad3",
   "metadata": {
    "tags": []
   },
   "outputs": [],
   "source": [
    "def get_year_daily_xr(ref_year_xr_map, year_xr_map, phase_dim='event_month'):\n",
    "    phase_ranges = {\n",
    "        \"buildup\": {\n",
    "            \"start\": \"09\",\n",
    "            \"end\": \"02\",\n",
    "        },\n",
    "        \"peak\": {\n",
    "            \"start\": \"03\",\n",
    "            \"end\": \"06\",\n",
    "        }\n",
    "    }\n",
    "\n",
    "    year_phases = []\n",
    "    years = ref_year_xr_map.keys()\n",
    "    for year in years:\n",
    "        year_xr = year_xr_map[year]\n",
    "\n",
    "        next_year = year + 1\n",
    "        buildup_slice = slice(\"{}-{}\".format(year, phase_ranges[\"buildup\"][\"start\"]),\n",
    "                              \"{}-{}\".format(next_year, phase_ranges[\"buildup\"][\"end\"]))\n",
    "        peak_slice = slice(\"{}-{}\".format(next_year, phase_ranges[\"peak\"][\"start\"]),\n",
    "                              \"{}-{}\".format(next_year, phase_ranges[\"peak\"][\"end\"]))\n",
    "\n",
    "        buildup = year_xr.sel({phase_dim: buildup_slice})\n",
    "        peak = year_xr.sel({phase_dim: peak_slice})\n",
    "\n",
    "        year_phase_xr = xr.concat([buildup, peak], dim=\"phase\")\n",
    "        \n",
    "        print (\"Checking coords of {} - \".format(year), end=\"\")\n",
    "        try:\n",
    "            print (\"has 'longtitude'\".format(len(year_phase_xr.longitude)), end =\"\")\n",
    "        except:\n",
    "            # Has 'longitude_0' and 'latitude_0'\n",
    "            print(\"has 'longitude_0' -> renaming coords...\", end=\"\")\n",
    "            year_phase_xr = year_phase_xr.rename(longitude_0='longitude', latitude_0='latitude')\n",
    "        finally:\n",
    "            print(\"\")\n",
    "        year_phases.append(year_phase_xr) ## I'm adding this now\n",
    "    year_phases_xr = xr.concat(year_phases, dim=\"time\")\n",
    "    return year_phases_xr"
   ]
  },
  {
   "cell_type": "markdown",
   "id": "2bb53e98",
   "metadata": {
    "heading_collapsed": true,
    "jp-MarkdownHeadingCollapsed": true,
    "tags": []
   },
   "source": [
    "## Phases"
   ]
  },
  {
   "cell_type": "markdown",
   "id": "fba88a63",
   "metadata": {
    "hidden": true
   },
   "source": [
    "New approach: 2 phases \n",
    "Sep to Feb (high SSTA and strong SAT response) and March to June (when SSTA is high but the SAT response is relatively weak)"
   ]
  },
  {
   "cell_type": "code",
   "execution_count": 2,
   "id": "1513374f",
   "metadata": {
    "hidden": true
   },
   "outputs": [],
   "source": [
    "def get_year_2phases_xr(ref_year_xr_map, year_xr_map, phase_dim='event_month'):\n",
    "    phase_ranges = {\n",
    "        \"buildup\": {\n",
    "            \"start\": \"09\",\n",
    "            \"end\": \"02\",\n",
    "        },\n",
    "        \"peak\": {\n",
    "            \"start\": \"03\",\n",
    "            \"end\": \"06\",\n",
    "        }\n",
    "    }\n",
    "\n",
    "    year_phases = []\n",
    "    years = ref_year_xr_map.keys()\n",
    "    for year in years:\n",
    "        year_xr = year_xr_map[year]\n",
    "\n",
    "        next_year = year + 1\n",
    "        buildup_slice = slice(\"{}-{}\".format(year, phase_ranges[\"buildup\"][\"start\"]),\n",
    "                              \"{}-{}\".format(next_year, phase_ranges[\"buildup\"][\"end\"]))\n",
    "        peak_slice = slice(\"{}-{}\".format(next_year, phase_ranges[\"peak\"][\"start\"]),\n",
    "                              \"{}-{}\".format(next_year, phase_ranges[\"peak\"][\"end\"]))\n",
    "\n",
    "        buildup = year_xr.sel({phase_dim: buildup_slice}).mean(dim=phase_dim)\n",
    "        peak = year_xr.sel({phase_dim: peak_slice}).mean(dim=phase_dim)\n",
    "\n",
    "        year_phase_xr = xr.concat([buildup, peak], dim=\"phase\")\n",
    "        \n",
    "        print (\"Checking coords of {} - \".format(year), end=\"\")\n",
    "        try:\n",
    "            print (\"has 'longtitude'\".format(len(year_phase_xr.longitude)), end =\"\")\n",
    "        except:\n",
    "            # Has 'longitude_0' and 'latitude_0'\n",
    "            print(\"has 'longitude_0' -> renaming coords...\", end=\"\")\n",
    "            year_phase_xr = year_phase_xr.rename(longitude_0='longitude', latitude_0='latitude')\n",
    "        finally:\n",
    "            print(\"\")\n",
    "        year_phases.append(year_phase_xr) ## I'm adding this now\n",
    "    year_phases_xr = xr.concat(year_phases, dim=\"time\")\n",
    "    return year_phases_xr"
   ]
  },
  {
   "cell_type": "code",
   "execution_count": 13,
   "id": "3201e51b",
   "metadata": {
    "hidden": true
   },
   "outputs": [],
   "source": [
    "def get_year_phases_xr(ref_year_xr_map, year_xr_map, phase_dim='event_month'):\n",
    "    phase_ranges = {\n",
    "        \"buildup\": {\n",
    "            \"start\": \"06\",\n",
    "            \"end\": \"01\",\n",
    "        },\n",
    "        \"peak\": {\n",
    "            \"start\": \"02\",\n",
    "            \"end\": \"04\",\n",
    "        },\n",
    "        \"diedown\": {\n",
    "            \"start\": \"05\",\n",
    "            \"end\": \"06\",\n",
    "        },\n",
    "    }\n",
    "\n",
    "    year_phases = []\n",
    "    years = ref_year_xr_map.keys()\n",
    "    for year in years:\n",
    "        year_xr = year_xr_map[year]\n",
    "\n",
    "        next_year = year + 1\n",
    "        buildup_slice = slice(\"{}-{}\".format(year, phase_ranges[\"buildup\"][\"start\"]),\n",
    "                              \"{}-{}\".format(year, phase_ranges[\"buildup\"][\"end\"]))\n",
    "        peak_slice = slice(\"{}-{}\".format(year, phase_ranges[\"peak\"][\"start\"]),\n",
    "                              \"{}-{}\".format(next_year, phase_ranges[\"peak\"][\"end\"]))\n",
    "        diedown_slice = slice(\"{}-{}\".format(next_year, phase_ranges[\"diedown\"][\"start\"]),\n",
    "                              \"{}-{}\".format(next_year, phase_ranges[\"diedown\"][\"end\"]))\n",
    "\n",
    "        buildup = year_xr.sel({phase_dim: buildup_slice}).mean(dim=phase_dim)\n",
    "        peak = year_xr.sel({phase_dim: peak_slice}).mean(dim=phase_dim)\n",
    "        diedown = year_xr.sel({phase_dim: diedown_slice}).mean(dim=phase_dim)\n",
    "\n",
    "        year_phase_xr = xr.concat([buildup, peak, diedown], dim=\"phase\")\n",
    "        \n",
    "        print (\"Checking coords of {} - \".format(year), end=\"\")\n",
    "        try:\n",
    "            print (\"has 'longtitude'\".format(len(year_phase_xr.longitude)), end =\"\")\n",
    "        except:\n",
    "            # Has 'longitude_0' and 'latitude_0'\n",
    "            print(\"has 'longitude_0' -> renaming coords...\", end=\"\")\n",
    "            year_phase_xr = year_phase_xr.rename(longitude_0='longitude', latitude_0='latitude')\n",
    "        finally:\n",
    "            print(\"\")\n",
    "        year_phases.append(year_phase_xr) ## I'm adding this now\n",
    "    year_phases_xr = xr.concat(year_phases, dim=\"time\")\n",
    "    return year_phases_xr"
   ]
  },
  {
   "cell_type": "markdown",
   "id": "bceb7b4f",
   "metadata": {
    "heading_collapsed": true,
    "jp-MarkdownHeadingCollapsed": true,
    "tags": []
   },
   "source": [
    "## Months"
   ]
  },
  {
   "cell_type": "code",
   "execution_count": 7,
   "id": "b49452c0",
   "metadata": {
    "hidden": true
   },
   "outputs": [],
   "source": [
    "# time (13 months) x longitude x latitude\n",
    "def get_year_months_xr(ref_year_xr_map, year_xr_map):\n",
    "    year_months = []\n",
    "    for m in range(0,13):\n",
    "        index_list = []\n",
    "        years = ref_year_xr_map.keys()\n",
    "        for year in years:\n",
    "            year_xr = year_xr_map[year].resample(time='1M').mean()\n",
    "            index_list.append(year_xr.isel(time=m))\n",
    "        year_months.append(xr.concat(index_list, dim=\"time\").mean(dim=\"time\"))\n",
    "    year_months_xr = xr.concat(year_months, dim=\"time\")\n",
    "    return year_months_xr"
   ]
  },
  {
   "cell_type": "code",
   "execution_count": 2,
   "id": "4f0f0a09",
   "metadata": {
    "hidden": true
   },
   "outputs": [],
   "source": [
    "# year (36 years) x month (13) x longitude x latitude\n",
    "def get_year_and_months_xr(ref_year_xr_map, year_xr_map):\n",
    "    year_month_segments_list = []\n",
    "    years = ref_year_xr_map.keys()\n",
    "    for year in years:\n",
    "        # has time:coordinate x 13\n",
    "        year_month_segments_time_coord_xr = year_xr_map[year].resample(time='1M').mean() \n",
    "        time_coord_size = year_month_segments_time_coord_xr[\"time\"].size\n",
    "        if time_coord_size != 13:\n",
    "            print(\"{} has {} time coords after resampling. Skipping this year!\".format(year, time_coord_size))\n",
    "            continue\n",
    "        # has month: dimension x 13\n",
    "        year_month_segments_xr = xr.concat(\n",
    "            [year_month_segments_time_coord_xr.isel(time=m) for m in range(0,13)],\n",
    "            dim='month'\n",
    "        )\n",
    "        print (\"Checking coords of {} - \".format(year), end=\"\")\n",
    "        try:\n",
    "            print (\"has 'longtitude'\".format(len(year_month_segments_xr.longitude)), end =\"\")\n",
    "        except:\n",
    "            # Has 'longitude_0' and 'latitude_0'\n",
    "            print(\"has 'longitude_0' -> renaming coords...\", end=\"\")\n",
    "            year_month_segments_xr = year_month_segments_xr.rename(longitude_0='longitude', latitude_0='latitude')\n",
    "        finally:\n",
    "            print(\"\")\n",
    "        year_month_segments_list.append(year_month_segments_xr)\n",
    "\n",
    "    year_and_months_xr = xr.concat(year_month_segments_list, dim=\"year\")\n",
    "    return year_and_months_xr"
   ]
  },
  {
   "cell_type": "code",
   "execution_count": 5,
   "id": "fed68f7e",
   "metadata": {
    "hidden": true
   },
   "outputs": [],
   "source": [
    "# chai trying to get year and month \n",
    "\n",
    "def get_year_months_xr(ref_year_xr_map, year_xr_map):\n",
    "    year_months = []\n",
    "    years = ref_year_xr_map.keys()\n",
    "    for year in years:\n",
    "        month_xr = year_xr_map[year].resample(time='1M').mean()\n",
    "        year_month_xr = xr.concat(month_xr, dim='time')\n",
    "        year_months.append(year_month_xr)\n",
    "    year_months_xr = xr.concat(year_months, dim=\"time\")\n",
    "    return year_months_xr"
   ]
  },
  {
   "cell_type": "markdown",
   "id": "a59b46c3",
   "metadata": {
    "heading_collapsed": true,
    "jp-MarkdownHeadingCollapsed": true,
    "tags": []
   },
   "source": [
    "## T test"
   ]
  },
  {
   "cell_type": "code",
   "execution_count": 3,
   "id": "5c953927",
   "metadata": {
    "hidden": true
   },
   "outputs": [],
   "source": [
    "def get_sig_da(year_phases_xr, dim1='latitude', dim2='longitude'):\n",
    "    r_b = stats.ttest_1samp(year_phases_xr.isel(phase=0), 0, axis=0, nan_policy='omit')\n",
    "\n",
    "    # Convert the p-values into a dataarray:\n",
    "    da_b = xr.DataArray(r_b[1], dims=(dim1, dim2), coords={\n",
    "        dim1: year_phases_xr[dim1],\n",
    "        dim2: year_phases_xr[dim2]\n",
    "    })\n",
    "\n",
    "    r_p = stats.ttest_1samp(year_phases_xr.isel(phase=1), 0, axis=0, nan_policy='omit')\n",
    "\n",
    "\n",
    "    # Convert the p-values into a dataarray:\n",
    "    da_p = xr.DataArray(r_p[1], dims=(dim1, dim2), coords={\n",
    "        dim1: year_phases_xr[dim1],\n",
    "        dim2: year_phases_xr[dim2]\n",
    "    })\n",
    "\n",
    "    #r_d = stats.ttest_1samp(year_phases_xr.isel(phase=2), 0, axis=0, nan_policy='omit')\n",
    "\n",
    "\n",
    "    # Convert the p-values into a dataarray:\n",
    "    #da_d = xr.DataArray(r_d[1], dims=(dim1, dim2), coords={\n",
    "    #    dim1: year_phases_xr[dim1],\n",
    "    #    dim2: year_phases_xr[dim2]\n",
    "    #})\n",
    "\n",
    "    #sig_da = xr.concat([da_b, da_p, da_d], dim='phase')\n",
    "    sig_da = xr.concat([da_b, da_p], dim='phase')\n",
    "    return sig_da"
   ]
  },
  {
   "cell_type": "markdown",
   "id": "a6632be9",
   "metadata": {
    "jp-MarkdownHeadingCollapsed": true,
    "tags": []
   },
   "source": [
    "## Difference Maps (Multiple plots)"
   ]
  },
  {
   "cell_type": "code",
   "execution_count": 6,
   "id": "99fd0294",
   "metadata": {
    "tags": []
   },
   "outputs": [],
   "source": [
    "## new diff plot (phases)\n",
    "\n",
    "def multiple_plots_aus(year_phases_xr, sig_da, exclude_ocean=False):\n",
    "    nrow = 1\n",
    "    ncol = 2\n",
    "    \n",
    "    fig, ax = plt.subplots(nrows=nrow,ncols=ncol, figsize=(16,9), \n",
    "            subplot_kw={'projection': ccrs.PlateCarree()}) # Specifies the projection for the plots    \n",
    "    \n",
    "    data = year_phases_xr.mean(dim='time')\n",
    "    if exclude_ocean:\n",
    "        data = data.where(mask).mean(dim='time') \n",
    "        \n",
    "    phases = ['Sep-Feb', 'March-June']\n",
    "    contour = None    \n",
    "    mask_mean = mask.mean(dim='time') \n",
    "    \n",
    "    for col in range(ncol):\n",
    "        cur_data = data[col]\n",
    "        contour = cur_data.plot(\n",
    "            ax=ax[col],\n",
    "            cmap=plt.cm.get_cmap('bwr', 40),\n",
    "            vmin=-1, vmax=1,\n",
    "            add_colorbar=False,\n",
    "            extend='both'\n",
    "        )\n",
    "        \n",
    "        ax[col].contour(\n",
    "            mask_mean.longitude, \n",
    "            mask_mean.latitude,\n",
    "            mask_mean.values,\n",
    "            levels=[0.5], \n",
    "            cmap='gray')\n",
    "        \n",
    "        phase_mask_mean = sig_da[col].where(mask).mean(dim='time')\n",
    "        \n",
    "        ax[col].contourf(\n",
    "            phase_mask_mean.longitude,\n",
    "            phase_mask_mean.latitude,\n",
    "            phase_mask_mean.values,\n",
    "            levels=[0.00, 0.05, 1.00],\n",
    "            hatches=['.', None],\n",
    "            colors='none',\n",
    "            add_colorbar=False,\n",
    "        )\n",
    "\n",
    "        ax[col].set_extent([140, 155, -48, -33],crs=ccrs.PlateCarree()) \n",
    "        ax[col].set_xticks([140, 145, 150, 155],crs=ccrs.PlateCarree())\n",
    "        ax[col].set_yticks([-48, -45, -40, -35, -33],crs=ccrs.PlateCarree())\n",
    "\n",
    "        \n",
    "        ax[col].set_title(phases[col], fontsize=20)\n",
    "\n",
    "    cbar = fig.colorbar(contour, ax=ax.ravel().tolist(), orientation=\"horizontal\",ticks=np.arange(-1,1.05,0.5),\n",
    "                        fraction=0.035,aspect=25, extend='both')\n",
    "    cbar.set_label(label=u'Surface air temperature anomaly (\\u00B0C)', fontsize=24)  \n",
    "    cbar.ax.tick_params(labelsize=20)\n",
    "\n",
    "    #plt.xlabel('Longitude',fontsize=20)\n",
    "    #plt.ylabel('Latitude', fontsize=20)\n",
    "    plt.savefig('/g/data/e14/cp3790/Charuni/ModelExperiment/Revisions/thesis_fig3.5a_aus.png')"
   ]
  },
  {
   "cell_type": "code",
   "execution_count": 7,
   "id": "d961d9d8",
   "metadata": {
    "tags": []
   },
   "outputs": [],
   "source": [
    "## new diff plot (phases)\n",
    "\n",
    "def multiple_plots_nz(year_phases_xr, sig_da, exclude_ocean=False):\n",
    "    nrow = 1\n",
    "    ncol = 2\n",
    "    \n",
    "    fig, ax = plt.subplots(nrows=nrow,ncols=ncol, figsize=(16,9), \n",
    "            subplot_kw={'projection': ccrs.PlateCarree()}) # Specifies the projection for the plots    \n",
    "    \n",
    "    data = year_phases_xr.mean(dim='time')\n",
    "    if exclude_ocean:\n",
    "        data = data.where(mask).mean(dim='time') \n",
    "        \n",
    "    phases = ['Sep-Feb', 'March-June']\n",
    "    contour = None    \n",
    "    mask_mean = mask.mean(dim='time') \n",
    "    \n",
    "    for col in range(ncol):\n",
    "        cur_data = data[col]\n",
    "        contour = cur_data.plot(\n",
    "            ax=ax[col],\n",
    "            cmap=plt.cm.get_cmap('bwr', 40),\n",
    "            vmin=-1, vmax=1,\n",
    "            add_colorbar=False,\n",
    "        )\n",
    "        \n",
    "        ax[col].contour(\n",
    "            mask_mean.longitude, \n",
    "            mask_mean.latitude,\n",
    "            mask_mean.values,\n",
    "            levels=[0.5], \n",
    "            cmap='gray')\n",
    "        \n",
    "        phase_mask_mean = sig_da[col].where(mask).mean(dim='time')\n",
    "        \n",
    "        ax[col].contourf(\n",
    "            phase_mask_mean.longitude,\n",
    "            phase_mask_mean.latitude,\n",
    "            phase_mask_mean.values,\n",
    "            levels=[0.00, 0.05, 1.00],\n",
    "            hatches=['.', None],\n",
    "            colors='none',\n",
    "            add_colorbar=False,\n",
    "        )\n",
    "\n",
    "        ax[col].set_extent([165, 180, -49, -34],crs=ccrs.PlateCarree()) \n",
    "        ax[col].set_xticks([165, 170, 175, 180],crs=ccrs.PlateCarree())\n",
    "        ax[col].set_yticks([-49, -45, -40, -34],crs=ccrs.PlateCarree())\n",
    "\n",
    "        \n",
    "        ax[col].set_title(phases[col], fontsize=20)\n",
    "\n",
    "    cbar = fig.colorbar(contour, ax=ax.ravel().tolist(), orientation=\"horizontal\",ticks=np.arange(-1,1.5,0.5),\n",
    "                        fraction=0.035,aspect=25)\n",
    "    cbar.set_label(label=u'Surface air temperature anomaly (\\u00B0C)', fontsize=24)  \n",
    "    cbar.ax.tick_params(labelsize=20)\n",
    "\n",
    "    #plt.xlabel('Longitude',fontsize=20)\n",
    "    #plt.ylabel('Latitude', fontsize=20)\n",
    "    plt.savefig('/g/data/e14/cp3790/Charuni/ModelExperiment/Revisions/thesis_fig3.5a_nz.png')"
   ]
  },
  {
   "cell_type": "code",
   "execution_count": 9,
   "id": "00638087",
   "metadata": {},
   "outputs": [],
   "source": [
    "## Anom winds acting on anomalous temperatures AUS\n",
    "\n",
    "def multiple_plots_sat_winds_mslp(year_phases_anom_xr, mslp_year_phases_anom_xr, uas_year_phases_anom_xr, \n",
    "                                  vas_year_phases_anom_xr):\n",
    "    \n",
    "    x = vas_year_phases_anom_xr['longitude']\n",
    "    y = uas_year_phases_anom_xr['latitude']\n",
    "    \n",
    "    nrow = 1\n",
    "    ncol = 2\n",
    "    \n",
    "    fig, ax = plt.subplots(nrows=nrow,ncols=ncol, figsize=(20,12), \n",
    "            subplot_kw={'projection': ccrs.PlateCarree()}) # Specifies the projection for the plots    \n",
    "    \n",
    "    data = year_phases_anom_xr.mean(dim='time')\n",
    "    data2 = mslp_year_phases_anom_xr.mean(dim='time')\n",
    "    data3 = uas_year_phases_anom_xr.mean(dim='time')\n",
    "    data4 = vas_year_phases_anom_xr.mean(dim='time')\n",
    "    \n",
    "    phases = ['Sep-Feb', 'March-June']\n",
    "    contour = None\n",
    "    mask_mean = mask.mean(dim='time')\n",
    "    \n",
    "    for col in range(ncol):\n",
    "        cur_data = data[col]\n",
    "        contour = cur_data.plot(\n",
    "            ax=ax[col],\n",
    "            cmap=plt.cm.get_cmap('bwr', 25),\n",
    "            vmin=-3, vmax=3,\n",
    "            add_colorbar=False\n",
    "        )\n",
    "        ax[col].contour(\n",
    "            mask_mean.longitude, \n",
    "            mask_mean.latitude,\n",
    "            mask_mean.values,\n",
    "            levels=[0.5], \n",
    "            cmap='gray')\n",
    "        \n",
    "        cur_data2 = data2[col]\n",
    "        CS = ax[col].contour(\n",
    "            cur_data2.longitude,\n",
    "            cur_data2.latitude,\n",
    "            cur_data2.values,\n",
    "            levels=10,\n",
    "            colors='k'\n",
    "        )\n",
    "\n",
    "        q = ax[col].quiver(\n",
    "            x[::2], y[::2],\n",
    "            data3[col][::2, ::2],\n",
    "            data4[col][::2, ::2],\n",
    "            scale=10,\n",
    "            units='height', headwidth=9, headlength=8, headaxislength=6.5\n",
    "        )\n",
    "        \n",
    "        \n",
    "        ax[col].set_extent([143, 155, -45, -32],crs=ccrs.PlateCarree()) \n",
    "        ax[col].set_xticks([165, 170, 175, 180],crs=ccrs.PlateCarree())\n",
    "        ax[col].set_yticks([-49, -45, -40, -34],crs=ccrs.PlateCarree())\n",
    "        ax[col].set_title(phases[col], fontsize=18)\n",
    "        ax[col].clabel(CS, CS.levels, inline=True, fontsize=16)\n",
    "        \n",
    "    cbar = fig.colorbar(contour, ax=ax.ravel().tolist(), orientation=\"horizontal\",ticks=np.arange(-4,5.0,1),\n",
    "                        fraction=0.015,aspect=45, extend='both')\n",
    "    cbar.set_label(label=u'Surface air temperature anomaly (\\u00B0C)', fontsize=18)  \n",
    "    cbar.ax.tick_params(labelsize=14)\n",
    "    \n",
    "    plt.quiverkey(q, 0.1, 1.02, 1, '2 m/s', labelpos='E', fontproperties={'size':20})\n",
    "    plt.savefig('/g/data/e14/cp3790/Charuni/ModelExperiment/anom_winds_anom_temp_AUS.png')"
   ]
  },
  {
   "cell_type": "code",
   "execution_count": null,
   "id": "af0b6d94",
   "metadata": {},
   "outputs": [],
   "source": []
  }
 ],
 "metadata": {
  "kernelspec": {
   "display_name": "Python [conda env:analysis3-unstable]",
   "language": "python",
   "name": "conda-env-analysis3-unstable-py"
  },
  "language_info": {
   "codemirror_mode": {
    "name": "ipython",
    "version": 3
   },
   "file_extension": ".py",
   "mimetype": "text/x-python",
   "name": "python",
   "nbconvert_exporter": "python",
   "pygments_lexer": "ipython3",
   "version": "3.9.16"
  },
  "varInspector": {
   "cols": {
    "lenName": 16,
    "lenType": 16,
    "lenVar": 40
   },
   "kernels_config": {
    "python": {
     "delete_cmd_postfix": "",
     "delete_cmd_prefix": "del ",
     "library": "var_list.py",
     "varRefreshCmd": "print(var_dic_list())"
    },
    "r": {
     "delete_cmd_postfix": ") ",
     "delete_cmd_prefix": "rm(",
     "library": "var_list.r",
     "varRefreshCmd": "cat(var_dic_list()) "
    }
   },
   "types_to_exclude": [
    "module",
    "function",
    "builtin_function_or_method",
    "instance",
    "_Feature"
   ],
   "window_display": false
  }
 },
 "nbformat": 4,
 "nbformat_minor": 5
}
